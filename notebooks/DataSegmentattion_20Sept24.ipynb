{
 "cells": [
  {
   "cell_type": "code",
   "execution_count": 1,
   "metadata": {},
   "outputs": [],
   "source": [
    "import numpy as np\n",
    "import os\n",
    "import segyio\n",
    "\n",
    "def segment_segy_into_shots(sgyfile, output_path=None):\n",
    "    \"\"\"\n",
    "    This function reads a SEG-Y file and segments it into individual shots.\n",
    "    \n",
    "    Args:\n",
    "    sgyfile (str): Path to the SEG-Y file\n",
    "    output_path (str, optional): Directory where to save the segmented data as .npy files\n",
    "    \n",
    "    Returns:\n",
    "    tuple: Containing the number of shots processed and shot data\n",
    "    \"\"\"\n",
    "    file_name = os.path.basename(sgyfile).replace('.sgy', '')  # Extract the filename without extension\n",
    "    segmented_data = []  # List to hold shot data\n",
    "    num_shots = 0  # Counter for the number of shots\n",
    "    sampint = None\n",
    "    \n",
    "    with segyio.open(sgyfile, \"r\", ignore_geometry=True) as f:\n",
    "        num_traces = f.tracecount\n",
    "        num_samples = f.samples.size\n",
    "        sampint = f.samples[1] - f.samples[0]\n",
    "        print(f\"Number of samples: {num_samples}, Number of traces: {num_traces}, Sample intervel:{sampint}\")\n",
    "\n",
    "        # Each shot contains 5105 traces: 1 for the source signal and 5104 for the shot\n",
    "        traces_per_shot = 5105  \n",
    "\n",
    "        for shot_index in range(num_traces // traces_per_shot):\n",
    "            start_trace = shot_index * traces_per_shot\n",
    "            end_trace = start_trace + traces_per_shot\n",
    "            \n",
    "            if end_trace > num_traces:\n",
    "                break  # Prevent going out of bounds\n",
    "            \n",
    "            # Extract the shot (source signal + related traces) and convert it to a NumPy array\n",
    "            shot_data = np.array([f.trace[i] for i in range(start_trace, end_trace)])  # Materialize into an array\n",
    "            \n",
    "            # Create filename for the shot and save it\n",
    "            shot_filename = f\"{file_name}_shot{shot_index + 1}.npy\"\n",
    "            if output_path:\n",
    "                np.save(os.path.join(output_path, shot_filename), shot_data)\n",
    "\n",
    "            segmented_data.append(shot_data)\n",
    "            num_shots += 1\n",
    "        \n",
    "    return num_shots, segmented_data\n",
    "\n",
    "# Example usage:\n",
    "# num_shots_processed, all_shot_data = segment_segy_into_shots('path/to/your_file.sgy', 'path/to/save_directory')"
   ]
  },
  {
   "cell_type": "code",
   "execution_count": null,
   "metadata": {},
   "outputs": [],
   "source": [
    "import os\n",
    "\n",
    "print(os.getcwd())"
   ]
  },
  {
   "cell_type": "code",
   "execution_count": 2,
   "metadata": {},
   "outputs": [
    {
     "name": "stdout",
     "output_type": "stream",
     "text": [
      "Number of samples: 3200, Number of traces: 15315, Sample intervel:2.0\n"
     ]
    }
   ],
   "source": [
    "\n",
    "data_file = '../artifacts/raw/R1809SA8S299.sgy'\n",
    "output_path= '../artifacts/segmented'\n",
    "\n",
    "# Example usage:\n",
    "num_shots_processed, all_shot_data = segment_segy_into_shots(data_file,output_path=output_path)"
   ]
  },
  {
   "cell_type": "code",
   "execution_count": 3,
   "metadata": {},
   "outputs": [],
   "source": [
    "import numpy as np\n",
    "data1 = np.load('../artifacts/segmented/R1809SA8S299_shot1.npy')"
   ]
  },
  {
   "cell_type": "code",
   "execution_count": 4,
   "metadata": {},
   "outputs": [],
   "source": [
    "import numpy as np\n",
    "import matplotlib.pyplot as plt\n",
    "\n",
    "def plot_specific_trace(segment_data, trace_number):\n",
    "    \"\"\"\n",
    "    This function takes a numpy array containing the seismic data\n",
    "    and plots the amplitude versus sample number for a specific trace.\n",
    "    \n",
    "    Args:\n",
    "    segment_data (numpy.ndarray): The seismic data in the form of a numpy array\n",
    "                                   with shape (num_traces, num_samples).\n",
    "    trace_number (int): Index of the trace to plot (0-based).\n",
    "    \n",
    "    Returns:\n",
    "    None: Displays the plot.\n",
    "    \"\"\"\n",
    "    \n",
    "    # Check if trace_number is within bounds\n",
    "    if trace_number < 0 or trace_number >= segment_data.shape[0]:\n",
    "        raise ValueError(f'Trace number {trace_number} is out of bounds for the loaded data.')\n",
    "\n",
    "    # Get the specific trace data\n",
    "    trace_data = segment_data[trace_number]\n",
    "\n",
    "    # Create a new figure with the specified size\n",
    "    plt.figure(figsize=(10, 4))\n",
    "\n",
    "    # Plot the specified trace data\n",
    "    plt.plot(trace_data)\n",
    "\n",
    "    # Set the title with user-friendly numbering (adding 1 for 1-based display)\n",
    "    plt.title(f'Trace {trace_number + 1}')\n",
    "\n",
    "    # Label the x-axis\n",
    "    plt.xlabel('Sample Number')\n",
    "\n",
    "    # Label the y-axis\n",
    "    plt.ylabel('Amplitude')\n",
    "\n",
    "    # Add a grid to the plot for better readability\n",
    "    plt.grid()\n",
    "\n",
    "    # Display the plot\n",
    "    plt.show()\n",
    "\n"
   ]
  },
  {
   "cell_type": "code",
   "execution_count": 5,
   "metadata": {},
   "outputs": [
    {
     "data": {
      "image/png": "[encoded data removed]",
      "text/plain": [
       "<Figure size 1000x400 with 1 Axes>"
      ]
     },
     "metadata": {},
     "output_type": "display_data"
    }
   ],
   "source": [
    "\n",
    "plot_specific_trace(data1, 640)  # Replace 0 with the desired trace number"
   ]
  },
  {
   "cell_type": "code",
   "execution_count": 6,
   "metadata": {},
   "outputs": [],
   "source": [
    "import numpy as np\n",
    "import matplotlib.pyplot as plt\n",
    "\n",
    "def plot_seismic_data(data):\n",
    "    \"\"\"\n",
    "    Plots a single figure for seismic data.\n",
    "\n",
    "    Parameters:\n",
    "    data (np.ndarray): The input data array with shape (NY, NX) where NY = number of time samples and NX = number of receivers.\n",
    "    \"\"\"\n",
    "    NR, NT = data.shape  # Get the number of receivers (x-axis) and time samples (y-axis)\n",
    "\n",
    "    receiver_numbers = np.arange(1, NR + 1)  # Receiver numbers\n",
    "    time_values = np.arange(0, NT) * (1 / 500)  # Time values assuming fs = 500 Hz\n",
    "\n",
    "    # Create the figure\n",
    "    plt.figure(figsize=(12, 8))  # Size of the figure\n",
    "\n",
    "    # Plot the seismic data\n",
    "    c = plt.pcolormesh(receiver_numbers, time_values, data.T, shading='auto', cmap='RdBu_r')\n",
    "    plt.title('Seismic Data')\n",
    "    plt.xlabel('Receiver #')  # X-axis for receiver numbers\n",
    "    plt.ylabel('Time (s)')  # Y-axis for time in seconds\n",
    "    plt.xlim(receiver_numbers[0], receiver_numbers[-1])  # Limits for x-axis\n",
    "    plt.ylim(time_values[-1], time_values[0])  # Invert y-axis for time\n",
    "\n",
    "    plt.clim([-0.25, 0.25])\n",
    "\n",
    "    # # Set dynamic color limits based on data\n",
    "    # vmin = np.min(data)  # Minimum value in the data\n",
    "    # vmax = np.max(data)  # Maximum value in the data\n",
    "    # plt.clim(vmin, vmax)  # Apply the dynamic color limits\n",
    "    plt.colorbar(label='Amplitude')  # Colorbar for the plot\n",
    "\n",
    "    # Increase font size for visibility\n",
    "    plt.rcParams.update({'font.size': 15})\n",
    "\n",
    "    # Adjust layout to prevent overlap\n",
    "    plt.tight_layout()\n",
    "    \n",
    "    # Save the figure\n",
    "    plt.savefig('fig_seismic_data.pdf')\n",
    "    plt.show()\n",
    "\n",
    "# Example usage:\n",
    "# Assuming 'data' is your 2D numpy array of shape (599, 3200)\n",
    "# plot_seismic_data(data)"
   ]
  },
  {
   "cell_type": "code",
   "execution_count": null,
   "metadata": {},
   "outputs": [],
   "source": [
    "# Example usage:\n",
    "# Assuming 'data' is your 2D numpy array\n",
    "data2=data1[1:600, :]\n",
    "plot_seismic_data(data2)"
   ]
  }
 ],
 "metadata": {
  "kernelspec": {
   "display_name": "Python 3",
   "language": "python",
   "name": "python3"
  },
  "language_info": {
   "codemirror_mode": {
    "name": "ipython",
    "version": 3
   },
   "file_extension": ".py",
   "mimetype": "text/x-python",
   "name": "python",
   "nbconvert_exporter": "python",
   "pygments_lexer": "ipython3",
   "version": "3.10.14"
  }
 },
 "nbformat": 4,
 "nbformat_minor": 2
}
