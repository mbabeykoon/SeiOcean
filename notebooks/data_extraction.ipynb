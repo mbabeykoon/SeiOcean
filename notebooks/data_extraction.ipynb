{
 "cells": [
  {
   "cell_type": "code",
   "execution_count": 1,
   "metadata": {},
   "outputs": [],
   "source": [
    "import sys\n",
    "import os\n",
    "sys.path.append(os.path.abspath(os.path.join(os.getcwd(), '..', 'src')))\n",
    "import numpy as np\n",
    "import pandas as pd\n",
    "import segyio\n",
    "import matplotlib.pyplot as plt\n",
    "from pathlib import Path\n",
    "from matplotlib.pyplot import figure\n",
    "import matplotlib.colors as mcolors\n",
    "from so3d.utils.segy_reader import *\n",
    "from so3d.utils.array_signal_plotter import plot_receiver_signals, freq_plot, freq_plot_tcut, plot_seismic,plot_shot_source_signal,plot_signal_mf_comparison\n",
    "from so3d.utils.data_utils import get_shot_data, get_line_data, get_receivers_data,select_line_data_portion,match_filter\n",
    "from so3d.utils.color_utils import redblue, redblue_cmap\n",
    "import scipy.io"
   ]
  },
  {
   "cell_type": "code",
   "execution_count": 2,
   "metadata": {},
   "outputs": [
    {
     "name": "stdout",
     "output_type": "stream",
     "text": [
      "No of traces = 15315, No of samples per trace = 3200\n"
     ]
    }
   ],
   "source": [
    "# read data\n",
    "data_file = '../artifacts/raw/R1809SA8S299.sgy'\n",
    "data, delta_t, textheader_output = read_segy(data_file)"
   ]
  },
  {
   "cell_type": "code",
   "execution_count": 4,
   "metadata": {},
   "outputs": [
    {
     "data": {
      "text/plain": [
       "(15315, 3200)"
      ]
     },
     "execution_count": 4,
     "metadata": {},
     "output_type": "execute_result"
    }
   ],
   "source": [
    "# Constants\n",
    "traces_per_shot = 5105\n",
    "receivers_per_line = 638\n",
    "num_lines = 8\n",
    "\n",
    "########################################### Functions get_shot_data ########################################\n",
    "def get_shot_data(shot_no, data):\n",
    "    \"\"\"\n",
    "    Retrieve data for a specific shot, excluding the first receiver.\n",
    "    Args:\n",
    "        shot_no (int): The shot number (1-indexed).\n",
    "        data (numpy.ndarray): The entire dataset.\n",
    "    Returns:\n",
    "        numpy.ndarray: Data for the specified shot.\n",
    "    \"\"\"\n",
    "    start_idx = (shot_no - 1) * traces_per_shot + 1  # Skip the first receiver\n",
    "    end_idx = shot_no * traces_per_shot\n",
    "    return data[start_idx:end_idx]"
   ]
  },
  {
   "cell_type": "code",
   "execution_count": 10,
   "metadata": {},
   "outputs": [],
   "source": [
    "import os\n",
    "import numpy as np\n",
    "from obspy import read\n",
    "\n",
    "# Constants\n",
    "traces_per_shot = 5105\n",
    "receivers_per_line = 638\n",
    "num_lines = 8\n",
    "\n",
    "def process_sgy_files(input_folder, output_folder):\n",
    "    \"\"\"\n",
    "    Read SEG-Y files from the input folder, extract line data, and save it into the output folder.\n",
    "\n",
    "    Args:\n",
    "        input_folder (str): Path to the folder containing .sgy files.\n",
    "        output_folder (str): Path to the folder where the line data will be saved.\n",
    "    \"\"\"\n",
    "    if not os.path.exists(output_folder):\n",
    "        os.makedirs(output_folder)\n",
    "\n",
    "    # Iterate over all .sgy files in the input folder\n",
    "    for filename in os.listdir(input_folder):\n",
    "        if filename.endswith('.sgy'):\n",
    "            # Load the data from the SEG-Y file\n",
    "            data_file = os.path.join(input_folder, filename)\n",
    "            data, delta_t, textheader_output = read_segy(data_file, textheader='no')\n",
    "            \n",
    "            num_shots = data.shape[0] // traces_per_shot  # Total number of shots\n",
    "\n",
    "            # Extract and save data for each line within each shot\n",
    "            for shot_no in range(1, num_shots + 1):\n",
    "                for line_no in range(1, num_lines + 1):\n",
    "                    line_data = get_line_data(shot_no, line_no, data)\n",
    "                    output_filename = f\"{os.path.splitext(filename)[0]}_shot_{shot_no}_line_{line_no}.npy\"\n",
    "                    output_path = os.path.join(output_folder, output_filename)\n",
    "\n",
    "                    # Save the line data to a .npy file\n",
    "                    np.save(output_path, line_data)\n",
    "\n",
    "                    print(f\"Saved: {output_path}\")\n",
    "\n",
    "# # Example usage\n",
    "# input_folder = 'path/to/input/folder'  # Specify your input folder here\n",
    "# output_folder = 'path/to/output/folder'  # Specify your output folder here\n",
    "\n",
    "# process_sgy_files(input_folder, output_folder)\n",
    "\n"
   ]
  },
  {
   "cell_type": "code",
   "execution_count": 11,
   "metadata": {},
   "outputs": [
    {
     "name": "stdout",
     "output_type": "stream",
     "text": [
      "No of traces = 15315, No of samples per trace = 3200\n",
      "Saved: ../artifacts/segmented\\R1809SA8S299_shot_1_line_1.npy\n",
      "Saved: ../artifacts/segmented\\R1809SA8S299_shot_1_line_2.npy\n",
      "Saved: ../artifacts/segmented\\R1809SA8S299_shot_1_line_3.npy\n",
      "Saved: ../artifacts/segmented\\R1809SA8S299_shot_1_line_4.npy\n",
      "Saved: ../artifacts/segmented\\R1809SA8S299_shot_1_line_5.npy\n",
      "Saved: ../artifacts/segmented\\R1809SA8S299_shot_1_line_6.npy\n",
      "Saved: ../artifacts/segmented\\R1809SA8S299_shot_1_line_7.npy\n",
      "Saved: ../artifacts/segmented\\R1809SA8S299_shot_1_line_8.npy\n",
      "Saved: ../artifacts/segmented\\R1809SA8S299_shot_2_line_1.npy\n",
      "Saved: ../artifacts/segmented\\R1809SA8S299_shot_2_line_2.npy\n",
      "Saved: ../artifacts/segmented\\R1809SA8S299_shot_2_line_3.npy\n",
      "Saved: ../artifacts/segmented\\R1809SA8S299_shot_2_line_4.npy\n",
      "Saved: ../artifacts/segmented\\R1809SA8S299_shot_2_line_5.npy\n",
      "Saved: ../artifacts/segmented\\R1809SA8S299_shot_2_line_6.npy\n",
      "Saved: ../artifacts/segmented\\R1809SA8S299_shot_2_line_7.npy\n",
      "Saved: ../artifacts/segmented\\R1809SA8S299_shot_2_line_8.npy\n",
      "Saved: ../artifacts/segmented\\R1809SA8S299_shot_3_line_1.npy\n",
      "Saved: ../artifacts/segmented\\R1809SA8S299_shot_3_line_2.npy\n",
      "Saved: ../artifacts/segmented\\R1809SA8S299_shot_3_line_3.npy\n",
      "Saved: ../artifacts/segmented\\R1809SA8S299_shot_3_line_4.npy\n",
      "Saved: ../artifacts/segmented\\R1809SA8S299_shot_3_line_5.npy\n",
      "Saved: ../artifacts/segmented\\R1809SA8S299_shot_3_line_6.npy\n",
      "Saved: ../artifacts/segmented\\R1809SA8S299_shot_3_line_7.npy\n",
      "Saved: ../artifacts/segmented\\R1809SA8S299_shot_3_line_8.npy\n"
     ]
    }
   ],
   "source": [
    "# Example usage\n",
    "input_folder = '../artifacts/raw'  # Specify your input folder here\n",
    "output_folder = '../artifacts/segmented'  # Specify your output folder here\n",
    "\n",
    "process_sgy_files(input_folder, output_folder)"
   ]
  }
 ],
 "metadata": {
  "kernelspec": {
   "display_name": "Python 3",
   "language": "python",
   "name": "python3"
  },
  "language_info": {
   "codemirror_mode": {
    "name": "ipython",
    "version": 3
   },
   "file_extension": ".py",
   "mimetype": "text/x-python",
   "name": "python",
   "nbconvert_exporter": "python",
   "pygments_lexer": "ipython3",
   "version": "3.12.5"
  }
 },
 "nbformat": 4,
 "nbformat_minor": 2
}
